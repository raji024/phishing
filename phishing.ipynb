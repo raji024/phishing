{
  "nbformat": 4,
  "nbformat_minor": 0,
  "metadata": {
    "colab": {
      "provenance": []
    },
    "kernelspec": {
      "name": "python3",
      "display_name": "Python 3"
    },
    "language_info": {
      "name": "python"
    }
  },
  "cells": [
    {
      "cell_type": "code",
      "execution_count": 2,
      "metadata": {
        "colab": {
          "base_uri": "https://localhost:8080/"
        },
        "id": "yRO2YcZkO-dF",
        "outputId": "f1f93ecd-bed2-43c3-8afd-f4a10d08d1ac"
      },
      "outputs": [
        {
          "output_type": "stream",
          "name": "stdout",
          "text": [
            "Requirement already satisfied: xgboost in /usr/local/lib/python3.11/dist-packages (3.0.2)\n",
            "Requirement already satisfied: numpy in /usr/local/lib/python3.11/dist-packages (from xgboost) (2.0.2)\n",
            "Requirement already satisfied: nvidia-nccl-cu12 in /usr/local/lib/python3.11/dist-packages (from xgboost) (2.21.5)\n",
            "Requirement already satisfied: scipy in /usr/local/lib/python3.11/dist-packages (from xgboost) (1.15.3)\n"
          ]
        }
      ],
      "source": [
        "pip install --upgrade xgboost"
      ]
    },
    {
      "cell_type": "code",
      "source": [
        "!pip install whois"
      ],
      "metadata": {
        "colab": {
          "base_uri": "https://localhost:8080/"
        },
        "id": "XEe6o67jRM43",
        "outputId": "55618048-a50f-4449-d16f-cd066296e631"
      },
      "execution_count": 2,
      "outputs": [
        {
          "output_type": "stream",
          "name": "stdout",
          "text": [
            "Collecting whois\n",
            "  Downloading whois-1.20240129.2-py3-none-any.whl.metadata (1.3 kB)\n",
            "Downloading whois-1.20240129.2-py3-none-any.whl (61 kB)\n",
            "\u001b[?25l   \u001b[90m━━━━━━━━━━━━━━━━━━━━━━━━━━━━━━━━━━━━━━━━\u001b[0m \u001b[32m0.0/61.8 kB\u001b[0m \u001b[31m?\u001b[0m eta \u001b[36m-:--:--\u001b[0m\r\u001b[2K   \u001b[90m━━━━━━━━━━━━━━━━━━━━━━━━━━━━━━━━━━━━━━━━\u001b[0m \u001b[32m61.8/61.8 kB\u001b[0m \u001b[31m1.8 MB/s\u001b[0m eta \u001b[36m0:00:00\u001b[0m\n",
            "\u001b[?25hInstalling collected packages: whois\n",
            "Successfully installed whois-1.20240129.2\n"
          ]
        }
      ]
    },
    {
      "cell_type": "code",
      "source": [
        "# 👇 Make sure this path is correct\n",
        "import pandas as pd\n",
        "import requests\n",
        "import whois\n",
        "from datetime import datetime\n",
        "from bs4 import BeautifulSoup\n",
        "\n",
        "data = pd.read_csv(r'/content/drive/MyDrive/final.csv')\n",
        "data.columns = data.columns.str.strip()\n",
        "\n",
        "print(\"✅ Loaded Columns:\")\n",
        "print(data.columns.tolist())"
      ],
      "metadata": {
        "colab": {
          "base_uri": "https://localhost:8080/"
        },
        "id": "fGMzucJkQ7lD",
        "outputId": "03e69957-704b-4ef7-e9e3-5690b2db6072"
      },
      "execution_count": 4,
      "outputs": [
        {
          "output_type": "stream",
          "name": "stdout",
          "text": [
            "✅ Loaded Columns:\n",
            "['url', 'length_url', 'length_hostname', 'ip', 'nb_dots', 'nb_hyphens', 'nb_at', 'nb_qm', 'nb_and', 'nb_or', 'nb_eq', 'nb_underscore', 'nb_tilde', 'nb_percent', 'nb_slash', 'nb_star', 'nb_colon', 'nb_comma', 'nb_semicolumn', 'nb_dollar', 'nb_space', 'nb_www', 'nb_com', 'nb_dslash', 'http_in_path', 'https_token', 'ratio_digits_url', 'ratio_digits_host', 'punycode', 'port', 'tld_in_path', 'tld_in_subdomain', 'abnormal_subdomain', 'nb_subdomains', 'prefix_suffix', 'random_domain', 'shortening_service', 'path_extension', 'nb_redirection', 'nb_external_redirection', 'length_words_raw', 'char_repeat', 'shortest_words_raw', 'shortest_word_host', 'shortest_word_path', 'longest_words_raw', 'longest_word_host', 'longest_word_path', 'avg_words_raw', 'avg_word_host', 'avg_word_path', 'phish_hints', 'domain_in_brand', 'brand_in_subdomain', 'brand_in_path', 'suspecious_tld', 'statistical_report', 'nb_hyperlinks', 'ratio_intHyperlinks', 'ratio_extHyperlinks', 'ratio_nullHyperlinks', 'nb_extCSS', 'ratio_intRedirection', 'ratio_extRedirection', 'ratio_intErrors', 'ratio_extErrors', 'login_form', 'external_favicon', 'links_in_tags', 'submit_email', 'ratio_intMedia', 'ratio_extMedia', 'sfh', 'iframe', 'popup_window', 'safe_anchor', 'onmouseover', 'right_clic', 'empty_title', 'domain_in_title', 'domain_with_copyright', 'whois_registered_domain', 'domain_registration_length', 'domain_age', 'web_traffic', 'dns_record', 'google_index', 'page_rank', 'status']\n"
          ]
        }
      ]
    },
    {
      "cell_type": "code",
      "source": [
        "# Install if needed\n",
        "!pip install pandas numpy scikit-learn xgboost imbalanced-learn python-whois beautifulsoup4 requests\n",
        "\n",
        "# Import\n",
        "import pandas as pd\n",
        "import numpy as np\n",
        "import requests\n",
        "import whois\n",
        "from urllib.parse import urlparse\n",
        "from bs4 import BeautifulSoup\n",
        "\n",
        "from sklearn.model_selection import train_test_split, RandomizedSearchCV\n",
        "from sklearn.metrics import accuracy_score\n",
        "from xgboost import XGBClassifier\n",
        "from imblearn.over_sampling import SMOTE\n",
        "import joblib\n"
      ],
      "metadata": {
        "colab": {
          "base_uri": "https://localhost:8080/"
        },
        "id": "aboVXFlNRYAM",
        "outputId": "4eae2931-d644-4eb0-fca7-4f99567b2de9"
      },
      "execution_count": 1,
      "outputs": [
        {
          "output_type": "stream",
          "name": "stdout",
          "text": [
            "Requirement already satisfied: pandas in /usr/local/lib/python3.11/dist-packages (2.2.2)\n",
            "Requirement already satisfied: numpy in /usr/local/lib/python3.11/dist-packages (2.0.2)\n",
            "Requirement already satisfied: scikit-learn in /usr/local/lib/python3.11/dist-packages (1.6.1)\n",
            "Requirement already satisfied: xgboost in /usr/local/lib/python3.11/dist-packages (3.0.2)\n",
            "Requirement already satisfied: imbalanced-learn in /usr/local/lib/python3.11/dist-packages (0.13.0)\n",
            "Requirement already satisfied: python-whois in /usr/local/lib/python3.11/dist-packages (0.9.5)\n",
            "Requirement already satisfied: beautifulsoup4 in /usr/local/lib/python3.11/dist-packages (4.13.4)\n",
            "Requirement already satisfied: requests in /usr/local/lib/python3.11/dist-packages (2.32.3)\n",
            "Requirement already satisfied: python-dateutil>=2.8.2 in /usr/local/lib/python3.11/dist-packages (from pandas) (2.9.0.post0)\n",
            "Requirement already satisfied: pytz>=2020.1 in /usr/local/lib/python3.11/dist-packages (from pandas) (2025.2)\n",
            "Requirement already satisfied: tzdata>=2022.7 in /usr/local/lib/python3.11/dist-packages (from pandas) (2025.2)\n",
            "Requirement already satisfied: scipy>=1.6.0 in /usr/local/lib/python3.11/dist-packages (from scikit-learn) (1.15.3)\n",
            "Requirement already satisfied: joblib>=1.2.0 in /usr/local/lib/python3.11/dist-packages (from scikit-learn) (1.5.1)\n",
            "Requirement already satisfied: threadpoolctl>=3.1.0 in /usr/local/lib/python3.11/dist-packages (from scikit-learn) (3.6.0)\n",
            "Requirement already satisfied: nvidia-nccl-cu12 in /usr/local/lib/python3.11/dist-packages (from xgboost) (2.21.5)\n",
            "Requirement already satisfied: sklearn-compat<1,>=0.1 in /usr/local/lib/python3.11/dist-packages (from imbalanced-learn) (0.1.3)\n",
            "Requirement already satisfied: soupsieve>1.2 in /usr/local/lib/python3.11/dist-packages (from beautifulsoup4) (2.7)\n",
            "Requirement already satisfied: typing-extensions>=4.0.0 in /usr/local/lib/python3.11/dist-packages (from beautifulsoup4) (4.14.1)\n",
            "Requirement already satisfied: charset-normalizer<4,>=2 in /usr/local/lib/python3.11/dist-packages (from requests) (3.4.2)\n",
            "Requirement already satisfied: idna<4,>=2.5 in /usr/local/lib/python3.11/dist-packages (from requests) (3.10)\n",
            "Requirement already satisfied: urllib3<3,>=1.21.1 in /usr/local/lib/python3.11/dist-packages (from requests) (2.4.0)\n",
            "Requirement already satisfied: certifi>=2017.4.17 in /usr/local/lib/python3.11/dist-packages (from requests) (2025.6.15)\n",
            "Requirement already satisfied: six>=1.5 in /usr/local/lib/python3.11/dist-packages (from python-dateutil>=2.8.2->pandas) (1.17.0)\n"
          ]
        }
      ]
    },
    {
      "cell_type": "code",
      "source": [
        "# 1️⃣ Install tqdm if needed\n",
        "!pip install tqdm\n",
        "\n",
        "# 2️⃣ Imports\n",
        "import pandas as pd\n",
        "from tqdm import tqdm\n",
        "tqdm.pandas()\n",
        "import requests\n",
        "import whois\n",
        "from datetime import datetime\n",
        "from bs4 import BeautifulSoup\n",
        "\n",
        "# 3️⃣ Mount Google Drive\n",
        "from google.colab import drive\n",
        "drive.mount('/content/drive')\n",
        "\n",
        "# 4️⃣ Load CSV from Drive\n",
        "data = pd.read_csv(r\n",
        "                   '/content/drive/MyDrive/final.csv')\n",
        "data.columns = data.columns.str.strip()\n",
        "\n",
        "print(\"✅ Loaded Columns:\")\n",
        "print(data.columns.tolist())\n",
        "\n",
        "# 5️⃣ Define the missing function\n",
        "def get_html_keyword_count(url):\n",
        "    try:\n",
        "        response = requests.get(url, timeout=5)\n",
        "        soup = BeautifulSoup(response.text, 'html.parser')\n",
        "        keywords = soup.find_all('meta', attrs={'name': 'keywords'})\n",
        "        return len(keywords)\n",
        "    except Exception as e:\n",
        "        return 0\n",
        "\n",
        "# 6️⃣ Apply with progress bar\n",
        "print(\"\\n✅ Adding html_keyword_count (this may take time)...\")\n",
        "data['html_keyword_count'] = data['url'].progress_apply(get_html_keyword_count)\n",
        "print(\"✅ html_keyword_count added!\")\n"
      ],
      "metadata": {
        "colab": {
          "base_uri": "https://localhost:8080/"
        },
        "id": "k8f-rQLGSlyZ",
        "outputId": "551daece-8cb6-4070-e3c3-2d5239d7436f"
      },
      "execution_count": 5,
      "outputs": [
        {
          "metadata": {
            "tags": null
          },
          "name": "stdout",
          "output_type": "stream",
          "text": [
            "Requirement already satisfied: tqdm in /usr/local/lib/python3.11/dist-packages (4.67.1)\n",
            "Drive already mounted at /content/drive; to attempt to forcibly remount, call drive.mount(\"/content/drive\", force_remount=True).\n",
            "✅ Loaded Columns:\n",
            "['url', 'length_url', 'length_hostname', 'ip', 'nb_dots', 'nb_hyphens', 'nb_at', 'nb_qm', 'nb_and', 'nb_or', 'nb_eq', 'nb_underscore', 'nb_tilde', 'nb_percent', 'nb_slash', 'nb_star', 'nb_colon', 'nb_comma', 'nb_semicolumn', 'nb_dollar', 'nb_space', 'nb_www', 'nb_com', 'nb_dslash', 'http_in_path', 'https_token', 'ratio_digits_url', 'ratio_digits_host', 'punycode', 'port', 'tld_in_path', 'tld_in_subdomain', 'abnormal_subdomain', 'nb_subdomains', 'prefix_suffix', 'random_domain', 'shortening_service', 'path_extension', 'nb_redirection', 'nb_external_redirection', 'length_words_raw', 'char_repeat', 'shortest_words_raw', 'shortest_word_host', 'shortest_word_path', 'longest_words_raw', 'longest_word_host', 'longest_word_path', 'avg_words_raw', 'avg_word_host', 'avg_word_path', 'phish_hints', 'domain_in_brand', 'brand_in_subdomain', 'brand_in_path', 'suspecious_tld', 'statistical_report', 'nb_hyperlinks', 'ratio_intHyperlinks', 'ratio_extHyperlinks', 'ratio_nullHyperlinks', 'nb_extCSS', 'ratio_intRedirection', 'ratio_extRedirection', 'ratio_intErrors', 'ratio_extErrors', 'login_form', 'external_favicon', 'links_in_tags', 'submit_email', 'ratio_intMedia', 'ratio_extMedia', 'sfh', 'iframe', 'popup_window', 'safe_anchor', 'onmouseover', 'right_clic', 'empty_title', 'domain_in_title', 'domain_with_copyright', 'whois_registered_domain', 'domain_registration_length', 'domain_age', 'web_traffic', 'dns_record', 'google_index', 'page_rank', 'status']\n",
            "\n",
            "✅ Adding html_keyword_count (this may take time)...\n"
          ]
        },
        {
          "output_type": "stream",
          "name": "stderr",
          "text": [
            "100%|██████████| 5000/5000 [1:08:57<00:00,  1.21it/s]"
          ]
        },
        {
          "output_type": "stream",
          "name": "stdout",
          "text": [
            "✅ html_keyword_count added!\n"
          ]
        },
        {
          "output_type": "stream",
          "name": "stderr",
          "text": [
            "\n"
          ]
        }
      ]
    },
    {
      "cell_type": "code",
      "source": [
        "print(data[['url', 'html_keyword_count']].head(10))"
      ],
      "metadata": {
        "colab": {
          "base_uri": "https://localhost:8080/"
        },
        "id": "nHOPPR7oiuUJ",
        "outputId": "c1e6ae1a-8186-44d7-d2ec-a634b9e0e484"
      },
      "execution_count": 6,
      "outputs": [
        {
          "output_type": "stream",
          "name": "stdout",
          "text": [
            "                                                 url  html_keyword_count\n",
            "0                https://www.rga.com/about/workplace                   0\n",
            "1                             http://starasia.com.hk                   1\n",
            "2        https://www.youtube.com/watch?v=XszqITK-UEw                   1\n",
            "3                         http://www.civico1845.com/                   0\n",
            "4  http://rapidpaws.com/wp-content/we_transfer/in...                   0\n",
            "5             https://mykoreankitchen.com/dak-galbi/                   0\n",
            "6  http://support-appleld.com.secureupdate.duilaw...                   0\n",
            "7                               http://quiluc.com.vn                   1\n",
            "8  http://www.astro.com/astrology/tma_article1607...                   1\n",
            "9         https://huggybearheadcanon.tumblr.com/#_=_                   0\n"
          ]
        }
      ]
    },
    {
      "cell_type": "code",
      "source": [
        "# ------------------------------------------\n",
        "# ✅ Define suspicious words for blacklist\n",
        "# ------------------------------------------\n",
        "BLACKLIST_KEYWORDS = [\n",
        "    \"login\", \"verify\", \"account\", \"secure\",\n",
        "    \"update\", \"bank\", \"password\"\n",
        "]\n",
        "\n",
        "# ------------------------------------------\n",
        "# ✅ Function to check if URL is \"blacklisted\"\n",
        "# ------------------------------------------\n",
        "def check_blacklist_flag(url):\n",
        "    try:\n",
        "        url = str(url).lower()\n",
        "        for word in BLACKLIST_KEYWORDS:\n",
        "            if word in url:\n",
        "                return 1\n",
        "        return 0\n",
        "    except Exception:\n",
        "        return 0\n",
        "\n",
        "# ------------------------------------------\n",
        "# ✅ Add the blacklist_flag column with progress bar\n",
        "# ------------------------------------------\n",
        "from tqdm import tqdm\n",
        "tqdm.pandas()\n",
        "\n",
        "print(\"\\n✅ Adding blacklist_flag column (this is fast)...\")\n",
        "data['blacklist_flag'] = data['url'].progress_apply(check_blacklist_flag)\n",
        "print(\"✅ blacklist_flag column added!\")\n",
        "\n",
        "# ------------------------------------------\n",
        "# ✅ Preview to confirm\n",
        "# ------------------------------------------\n",
        "print(data[['url', 'blacklist_flag']].head(10))\n",
        "data.to_csv('/content/dataset_phishing_augmented.csv', index=False)\n",
        "print(\"✅ CSV with new features saved!\")\n",
        "\n"
      ],
      "metadata": {
        "colab": {
          "base_uri": "https://localhost:8080/"
        },
        "id": "_ibHmeAnjjQR",
        "outputId": "ab6be4f1-b6ab-4337-b13a-6417e709a245"
      },
      "execution_count": 7,
      "outputs": [
        {
          "output_type": "stream",
          "name": "stdout",
          "text": [
            "\n",
            "✅ Adding blacklist_flag column (this is fast)...\n"
          ]
        },
        {
          "output_type": "stream",
          "name": "stderr",
          "text": [
            "100%|██████████| 5000/5000 [00:00<00:00, 116371.38it/s]"
          ]
        },
        {
          "output_type": "stream",
          "name": "stdout",
          "text": [
            "✅ blacklist_flag column added!\n",
            "                                                 url  blacklist_flag\n",
            "0                https://www.rga.com/about/workplace               0\n",
            "1                             http://starasia.com.hk               0\n",
            "2        https://www.youtube.com/watch?v=XszqITK-UEw               0\n",
            "3                         http://www.civico1845.com/               0\n",
            "4  http://rapidpaws.com/wp-content/we_transfer/in...               0\n",
            "5             https://mykoreankitchen.com/dak-galbi/               0\n",
            "6  http://support-appleld.com.secureupdate.duilaw...               1\n",
            "7                               http://quiluc.com.vn               0\n",
            "8  http://www.astro.com/astrology/tma_article1607...               0\n",
            "9         https://huggybearheadcanon.tumblr.com/#_=_               0\n"
          ]
        },
        {
          "output_type": "stream",
          "name": "stderr",
          "text": [
            "\n"
          ]
        },
        {
          "output_type": "stream",
          "name": "stdout",
          "text": [
            "✅ CSV with new features saved!\n"
          ]
        }
      ]
    },
    {
      "cell_type": "code",
      "source": [
        "data = pd.read_csv(r'/content/drive/MyDrive/dataset_phishing_augmented (1).csv')\n",
        "TARGET_COLUMN = 'status'  # Or your real target\n",
        "X = data.drop(TARGET_COLUMN, axis=1)\n",
        "y = data[TARGET_COLUMN]"
      ],
      "metadata": {
        "id": "d8MRxXlgjmdc"
      },
      "execution_count": 8,
      "outputs": []
    },
    {
      "cell_type": "code",
      "source": [
        "!pip install pandas requests beautifulsoup4"
      ],
      "metadata": {
        "colab": {
          "base_uri": "https://localhost:8080/"
        },
        "id": "Q7fZE4Z1kR6L",
        "outputId": "97dbda72-39f5-4704-fc6c-1df2872535b0"
      },
      "execution_count": 9,
      "outputs": [
        {
          "output_type": "stream",
          "name": "stdout",
          "text": [
            "Requirement already satisfied: pandas in /usr/local/lib/python3.11/dist-packages (2.2.2)\n",
            "Requirement already satisfied: requests in /usr/local/lib/python3.11/dist-packages (2.32.3)\n",
            "Requirement already satisfied: beautifulsoup4 in /usr/local/lib/python3.11/dist-packages (4.13.4)\n",
            "Requirement already satisfied: numpy>=1.23.2 in /usr/local/lib/python3.11/dist-packages (from pandas) (2.0.2)\n",
            "Requirement already satisfied: python-dateutil>=2.8.2 in /usr/local/lib/python3.11/dist-packages (from pandas) (2.9.0.post0)\n",
            "Requirement already satisfied: pytz>=2020.1 in /usr/local/lib/python3.11/dist-packages (from pandas) (2025.2)\n",
            "Requirement already satisfied: tzdata>=2022.7 in /usr/local/lib/python3.11/dist-packages (from pandas) (2025.2)\n",
            "Requirement already satisfied: charset-normalizer<4,>=2 in /usr/local/lib/python3.11/dist-packages (from requests) (3.4.2)\n",
            "Requirement already satisfied: idna<4,>=2.5 in /usr/local/lib/python3.11/dist-packages (from requests) (3.10)\n",
            "Requirement already satisfied: urllib3<3,>=1.21.1 in /usr/local/lib/python3.11/dist-packages (from requests) (2.4.0)\n",
            "Requirement already satisfied: certifi>=2017.4.17 in /usr/local/lib/python3.11/dist-packages (from requests) (2025.6.15)\n",
            "Requirement already satisfied: soupsieve>1.2 in /usr/local/lib/python3.11/dist-packages (from beautifulsoup4) (2.7)\n",
            "Requirement already satisfied: typing-extensions>=4.0.0 in /usr/local/lib/python3.11/dist-packages (from beautifulsoup4) (4.14.1)\n",
            "Requirement already satisfied: six>=1.5 in /usr/local/lib/python3.11/dist-packages (from python-dateutil>=2.8.2->pandas) (1.17.0)\n"
          ]
        }
      ]
    },
    {
      "cell_type": "code",
      "source": [
        "import pandas as pd\n",
        "import numpy as np\n",
        "from sklearn.model_selection import train_test_split, RandomizedSearchCV\n",
        "from sklearn.metrics import accuracy_score\n",
        "from xgboost import XGBClassifier\n",
        "from imblearn.over_sampling import SMOTE"
      ],
      "metadata": {
        "id": "6sVKjG9TkX8g"
      },
      "execution_count": 10,
      "outputs": []
    },
    {
      "cell_type": "code",
      "source": [
        "# 👇 Make sure this path is correct\n",
        "data = pd.read_csv(r'/content/drive/MyDrive/dataset_phishing_augmented (1).csv')\n",
        "data.columns = data.columns.str.strip()\n",
        "\n",
        "print(\"✅ Loaded Columns:\")\n",
        "print(data.columns.tolist())"
      ],
      "metadata": {
        "colab": {
          "base_uri": "https://localhost:8080/"
        },
        "id": "YUbi4F9Tkbzk",
        "outputId": "3a95b8ae-16e7-4e36-afd3-3f0c5e9bdfed"
      },
      "execution_count": 11,
      "outputs": [
        {
          "output_type": "stream",
          "name": "stdout",
          "text": [
            "✅ Loaded Columns:\n",
            "['url', 'length_url', 'length_hostname', 'ip', 'nb_dots', 'nb_hyphens', 'nb_at', 'nb_qm', 'nb_and', 'nb_or', 'nb_eq', 'nb_underscore', 'nb_tilde', 'nb_percent', 'nb_slash', 'nb_star', 'nb_colon', 'nb_comma', 'nb_semicolumn', 'nb_dollar', 'nb_space', 'nb_www', 'nb_com', 'nb_dslash', 'http_in_path', 'https_token', 'ratio_digits_url', 'ratio_digits_host', 'punycode', 'port', 'tld_in_path', 'tld_in_subdomain', 'abnormal_subdomain', 'nb_subdomains', 'prefix_suffix', 'random_domain', 'shortening_service', 'path_extension', 'nb_redirection', 'nb_external_redirection', 'length_words_raw', 'char_repeat', 'shortest_words_raw', 'shortest_word_host', 'shortest_word_path', 'longest_words_raw', 'longest_word_host', 'longest_word_path', 'avg_words_raw', 'avg_word_host', 'avg_word_path', 'phish_hints', 'domain_in_brand', 'brand_in_subdomain', 'brand_in_path', 'suspecious_tld', 'statistical_report', 'nb_hyperlinks', 'ratio_intHyperlinks', 'ratio_extHyperlinks', 'ratio_nullHyperlinks', 'nb_extCSS', 'ratio_intRedirection', 'ratio_extRedirection', 'ratio_intErrors', 'ratio_extErrors', 'login_form', 'external_favicon', 'links_in_tags', 'submit_email', 'ratio_intMedia', 'ratio_extMedia', 'sfh', 'iframe', 'popup_window', 'safe_anchor', 'onmouseover', 'right_clic', 'empty_title', 'domain_in_title', 'domain_with_copyright', 'whois_registered_domain', 'domain_registration_length', 'domain_age', 'web_traffic', 'dns_record', 'google_index', 'page_rank', 'status', 'html_keyword_count', 'blacklist_flag']\n"
          ]
        }
      ]
    },
    {
      "cell_type": "code",
      "source": [
        "TARGET_COLUMN = 'status'   # ✅ this is your actual label\n",
        "\n",
        "# Drop label and the raw 'url' column from features\n",
        "X = data.drop([TARGET_COLUMN, 'url'], axis=1)\n",
        "y = data[TARGET_COLUMN]\n",
        "\n",
        "print(\"\\n✅ X shape:\", X.shape)\n",
        "print(\"✅ y distribution:\\n\", y.value_counts())"
      ],
      "metadata": {
        "colab": {
          "base_uri": "https://localhost:8080/"
        },
        "id": "50UPTvmYkmGo",
        "outputId": "38ac53c6-9b49-44ea-f22f-87b5137a0d4d"
      },
      "execution_count": 12,
      "outputs": [
        {
          "output_type": "stream",
          "name": "stdout",
          "text": [
            "\n",
            "✅ X shape: (5000, 89)\n",
            "✅ y distribution:\n",
            " status\n",
            "phishing      2513\n",
            "legitimate    2487\n",
            "Name: count, dtype: int64\n"
          ]
        }
      ]
    },
    {
      "cell_type": "code",
      "source": [
        "print(\"\\n✅ Checking for missing values:\")\n",
        "print(X.isnull().sum())\n",
        "\n",
        "# Fill any NaNs with 0\n",
        "X = X.fillna(0)\n",
        "print(\"✅ Missing values filled with 0.\")"
      ],
      "metadata": {
        "colab": {
          "base_uri": "https://localhost:8080/"
        },
        "id": "IUFp6Z4Yksun",
        "outputId": "12c018f1-bb61-4f2c-a19d-4879c4653450"
      },
      "execution_count": 13,
      "outputs": [
        {
          "output_type": "stream",
          "name": "stdout",
          "text": [
            "\n",
            "✅ Checking for missing values:\n",
            "length_url            0\n",
            "length_hostname       0\n",
            "ip                    0\n",
            "nb_dots               0\n",
            "nb_hyphens            0\n",
            "                     ..\n",
            "dns_record            0\n",
            "google_index          0\n",
            "page_rank             0\n",
            "html_keyword_count    0\n",
            "blacklist_flag        0\n",
            "Length: 89, dtype: int64\n",
            "✅ Missing values filled with 0.\n"
          ]
        }
      ]
    },
    {
      "cell_type": "code",
      "source": [
        "X_train, X_test, y_train, y_test = train_test_split(\n",
        "    X, y, test_size=0.2, random_state=42, stratify=y\n",
        ")\n",
        "\n",
        "print(\"\\n✅ Train/Test Split:\")\n",
        "print(\"Train samples:\", X_train.shape[0])\n",
        "print(\"Test samples :\", X_test.shape[0])\n",
        "X_train = X_train.values\n",
        "X_test = X_test.values"
      ],
      "metadata": {
        "colab": {
          "base_uri": "https://localhost:8080/"
        },
        "id": "_EJbBzJakwIM",
        "outputId": "e69244e9-0afb-4b69-8483-b3f0a73535ee"
      },
      "execution_count": 14,
      "outputs": [
        {
          "output_type": "stream",
          "name": "stdout",
          "text": [
            "\n",
            "✅ Train/Test Split:\n",
            "Train samples: 4000\n",
            "Test samples : 1000\n"
          ]
        }
      ]
    },
    {
      "cell_type": "markdown",
      "source": [
        "check class Balance"
      ],
      "metadata": {
        "id": "_aknl-uNk0fi"
      }
    },
    {
      "cell_type": "code",
      "source": [
        "print(\"\\n✅ Class balance before SMOTE:\")\n",
        "print(pd.Series(y_train).value_counts())"
      ],
      "metadata": {
        "colab": {
          "base_uri": "https://localhost:8080/"
        },
        "id": "KS_7gE0jk323",
        "outputId": "1cd9d4e5-a783-4b83-87dc-d7e73976f567"
      },
      "execution_count": 15,
      "outputs": [
        {
          "output_type": "stream",
          "name": "stdout",
          "text": [
            "\n",
            "✅ Class balance before SMOTE:\n",
            "status\n",
            "phishing      2010\n",
            "legitimate    1990\n",
            "Name: count, dtype: int64\n"
          ]
        }
      ]
    },
    {
      "cell_type": "markdown",
      "source": [
        "apply smote for balancing"
      ],
      "metadata": {
        "id": "7u2KWuoVk_GD"
      }
    },
    {
      "cell_type": "code",
      "source": [
        "smote = SMOTE(random_state=42)\n",
        "X_train_bal, y_train_bal = smote.fit_resample(X_train, y_train)\n",
        "\n",
        "print(\"\\n✅ After SMOTE balancing:\")\n",
        "print(pd.Series(y_train_bal).value_counts())"
      ],
      "metadata": {
        "colab": {
          "base_uri": "https://localhost:8080/"
        },
        "id": "gGYcluMylB9O",
        "outputId": "a21b0b7e-da8c-4b27-f0e5-0ac62b0f0acd"
      },
      "execution_count": 16,
      "outputs": [
        {
          "output_type": "stream",
          "name": "stdout",
          "text": [
            "\n",
            "✅ After SMOTE balancing:\n",
            "status\n",
            "legitimate    2010\n",
            "phishing      2010\n",
            "Name: count, dtype: int64\n"
          ]
        }
      ]
    },
    {
      "cell_type": "code",
      "source": [
        "param_dist = {\n",
        "    'n_estimators': [100, 300, 500],\n",
        "    'learning_rate': [0.01, 0.05, 0.1],\n",
        "    'max_depth': [3, 5, 7],\n",
        "    'subsample': [0.6, 0.8, 1.0],\n",
        "    'colsample_bytree': [0.6, 0.8, 1.0],\n",
        "    'gamma': [0, 0.1, 0.2],\n",
        "    'min_child_weight': [1, 3, 5]\n",
        "}"
      ],
      "metadata": {
        "id": "SLSbtusFlFrp"
      },
      "execution_count": 17,
      "outputs": []
    },
    {
      "cell_type": "markdown",
      "source": [
        "setup xgboost classifier"
      ],
      "metadata": {
        "id": "e1avZp7rlPTS"
      }
    },
    {
      "cell_type": "code",
      "source": [
        "xgb_model = XGBClassifier(\n",
        "    objective='binary:logistic',\n",
        "    use_label_encoder=False,\n",
        "    eval_metric='logloss',\n",
        "    random_state=42,\n",
        "    verbosity=0\n",
        ")"
      ],
      "metadata": {
        "id": "DFC8UXCnlRsK"
      },
      "execution_count": 18,
      "outputs": []
    },
    {
      "cell_type": "markdown",
      "source": [
        "Setup RandomizedSearchCV"
      ],
      "metadata": {
        "id": "lJn3SXIelVdD"
      }
    },
    {
      "cell_type": "code",
      "source": [
        "search = RandomizedSearchCV(\n",
        "    estimator=xgb_model,\n",
        "    param_distributions=param_dist,\n",
        "    n_iter=30,\n",
        "    scoring='accuracy',\n",
        "    cv=5,\n",
        "    verbose=2,\n",
        "    random_state=42,\n",
        "    n_jobs=-1\n",
        ")"
      ],
      "metadata": {
        "id": "JSE_Y6p3lXuM"
      },
      "execution_count": 19,
      "outputs": []
    },
    {
      "cell_type": "markdown",
      "source": [
        "n Hyperparameter Tuning"
      ],
      "metadata": {
        "id": "3lf-lhg_ldT3"
      }
    },
    {
      "cell_type": "code",
      "source": [
        "# ✅ Convert label to numeric (safely)\n",
        "data['status'] = data['status'].replace({\n",
        "    'legitimate': 0,\n",
        "    'phishing': 1\n",
        "}).astype(int)\n",
        "\n",
        "# ✅ Define features and target\n",
        "TARGET_COLUMN = 'status'\n",
        "X = data.drop([TARGET_COLUMN, 'url'], axis=1)\n",
        "y = data[TARGET_COLUMN]\n",
        "\n",
        "print(\"\\n✅ X shape:\", X.shape)\n",
        "print(\"✅ y distribution:\\n\", y.value_counts())"
      ],
      "metadata": {
        "colab": {
          "base_uri": "https://localhost:8080/"
        },
        "id": "gtITw5zoleXT",
        "outputId": "e8c47bf2-1e58-430f-9485-cab249570860"
      },
      "execution_count": 20,
      "outputs": [
        {
          "output_type": "stream",
          "name": "stdout",
          "text": [
            "\n",
            "✅ X shape: (5000, 89)\n",
            "✅ y distribution:\n",
            " status\n",
            "1    2513\n",
            "0    2487\n",
            "Name: count, dtype: int64\n"
          ]
        },
        {
          "output_type": "stream",
          "name": "stderr",
          "text": [
            "/tmp/ipython-input-20-3866681060.py:2: FutureWarning: Downcasting behavior in `replace` is deprecated and will be removed in a future version. To retain the old behavior, explicitly call `result.infer_objects(copy=False)`. To opt-in to the future behavior, set `pd.set_option('future.no_silent_downcasting', True)`\n",
            "  data['status'] = data['status'].replace({\n"
          ]
        }
      ]
    },
    {
      "cell_type": "code",
      "source": [
        "# ===========================================\n",
        "# ✅ 1️⃣ Import Libraries\n",
        "# ===========================================\n",
        "import pandas as pd\n",
        "import numpy as np\n",
        "import warnings\n",
        "warnings.filterwarnings('ignore')\n",
        "\n",
        "from sklearn.model_selection import train_test_split, StratifiedKFold, RandomizedSearchCV\n",
        "from sklearn.metrics import accuracy_score, classification_report, confusion_matrix\n",
        "from imblearn.over_sampling import SMOTE\n",
        "\n",
        "import xgboost as xgb\n",
        "\n",
        "# ===========================================\n",
        "# ✅ 2️⃣ Load Data\n",
        "# ===========================================\n",
        "data = pd.read_csv('/content/dataset_phishing_augmented.csv')  # Change path if needed\n",
        "print(\"\\n✅ Original Columns:\")\n",
        "print(data.columns.tolist())\n",
        "\n",
        "# ===========================================\n",
        "# ✅ 3️⃣ Label Conversion\n",
        "# ===========================================\n",
        "data['status'] = data['status'].replace({\n",
        "    'legitimate': 0,\n",
        "    'phishing': 1\n",
        "})\n",
        "print(\"\\n✅ Label Conversion Done\")\n",
        "print(data['status'].value_counts())\n",
        "\n",
        "# ===========================================\n",
        "# ✅ 4️⃣ Define Features and Target\n",
        "# ===========================================\n",
        "TARGET_COLUMN = 'status'\n",
        "X = data.drop([TARGET_COLUMN, 'url'], axis=1)\n",
        "y = data[TARGET_COLUMN]\n",
        "\n",
        "print(\"\\n✅ X Shape:\", X.shape)\n",
        "print(\"✅ y distribution:\\n\", y.value_counts())\n",
        "\n",
        "# ===========================================\n",
        "# ✅ 5️⃣ Train-Test Split\n",
        "# ===========================================\n",
        "X_train, X_test, y_train, y_test = train_test_split(\n",
        "    X, y, test_size=0.2, stratify=y, random_state=42\n",
        ")\n",
        "print(\"\\n✅ Train-Test Split Done\")\n",
        "print(f\"Train Samples: {X_train.shape[0]}\")\n",
        "print(f\"Test Samples : {X_test.shape[0]}\")\n",
        "\n",
        "# ===========================================\n",
        "# ✅ 6️⃣ Balance Training Data with SMOTE\n",
        "# ===========================================\n",
        "smote = SMOTE(random_state=42)\n",
        "X_train_bal, y_train_bal = smote.fit_resample(X_train, y_train)\n",
        "print(\"\\n✅ After SMOTE Balancing:\")\n",
        "print(y_train_bal.value_counts())\n",
        "\n",
        "# ===========================================\n",
        "# ✅ 7️⃣ Define XGBoost Model\n",
        "# ===========================================\n",
        "xgb_model = xgb.XGBClassifier(\n",
        "    objective='binary:logistic',\n",
        "    eval_metric='logloss',\n",
        "    use_label_encoder=False,\n",
        "    verbosity=0,\n",
        "    random_state=42\n",
        ")\n",
        "\n",
        "# ===========================================\n",
        "# ✅ 8️⃣ Define Parameter Grid\n",
        "# ===========================================\n",
        "param_grid = {\n",
        "    'learning_rate': [0.01, 0.05, 0.1],\n",
        "    'max_depth': [3, 4, 5],\n",
        "    'n_estimators': [100, 150, 200],\n",
        "    'subsample': [0.6, 0.7, 0.8],\n",
        "    'colsample_bytree': [0.6, 0.7, 0.8],\n",
        "    'reg_alpha': [0, 0.5, 1],\n",
        "    'reg_lambda': [1, 1.5, 2]\n",
        "}\n",
        "\n",
        "cv = StratifiedKFold(n_splits=5, shuffle=True, random_state=42)\n",
        "\n",
        "search = RandomizedSearchCV(\n",
        "    estimator=xgb_model,\n",
        "    param_distributions=param_grid,\n",
        "    scoring='accuracy',\n",
        "    n_iter=20,\n",
        "    cv=cv,\n",
        "    verbose=1,\n",
        "    n_jobs=-1,\n",
        "    random_state=42\n",
        ")\n",
        "\n",
        "# ===========================================\n",
        "# ✅ 9️⃣ Hyperparameter Tuning (NO early stopping)\n",
        "# ===========================================\n",
        "print(\"\\n✅ Starting Hyperparameter Tuning (no early stopping in search)...\")\n",
        "search.fit(X_train_bal, y_train_bal)\n",
        "print(\"\\n✅ Hyperparameter Tuning Complete!\")\n",
        "\n",
        "print(\"\\n✅ Best Hyperparameters Found:\")\n",
        "print(search.best_params_)\n",
        "\n",
        "# ===========================================\n",
        "# ✅ 🔟 Refit Best Model with Early Stopping\n",
        "# ===========================================\n",
        "print(\"\\n✅ Refitting best model with early stopping...\")\n",
        "best_params = search.best_params_\n",
        "final_model = xgb.XGBClassifier(\n",
        "    **best_params,\n",
        "    objective='binary:logistic',\n",
        "    eval_metric='logloss',\n",
        "    use_label_encoder=False,\n",
        "    verbosity=0,\n",
        "    random_state=42\n",
        ")\n",
        "\n",
        "# ✅ Older-version-compatible early stopping:\n",
        "final_model.fit(\n",
        "    X_train_bal, y_train_bal,\n",
        "    eval_set=[(X_test, y_test)],\n",
        "    early_stopping_rounds=20,\n",
        "    verbose=False\n",
        ")\n",
        "\n",
        "# ===========================================\n",
        "# ✅ 1️⃣1️⃣ Evaluate Model\n",
        "# ===========================================\n",
        "preds_train = final_model.predict(X_train)\n",
        "preds_test = final_model.predict(X_test)\n",
        "\n",
        "train_acc = accuracy_score(y_train, preds_train)\n",
        "test_acc = accuracy_score(y_test, preds_test)\n",
        "\n",
        "print(\"\\n✅ Final Accuracy Results:\")\n",
        "print(f\"Train Accuracy: {train_acc:.4f}\")\n",
        "print(f\"Test Accuracy : {test_acc:.4f}\")\n",
        "\n",
        "print(\"\\n✅ Classification Report:\")\n",
        "print(classification_report(y_test, preds_test))\n",
        "\n",
        "print(\"\\n✅ Confusion Matrix:\")\n",
        "print(confusion_matrix(y_test, preds_test))\n"
      ],
      "metadata": {
        "colab": {
          "base_uri": "https://localhost:8080/",
          "height": 1000
        },
        "id": "Zk_ikK7WmnEO",
        "outputId": "5c8c2402-8739-45ba-ff4a-b04d66199993"
      },
      "execution_count": 22,
      "outputs": [
        {
          "output_type": "stream",
          "name": "stdout",
          "text": [
            "\n",
            "✅ Original Columns:\n",
            "['url', 'length_url', 'length_hostname', 'ip', 'nb_dots', 'nb_hyphens', 'nb_at', 'nb_qm', 'nb_and', 'nb_or', 'nb_eq', 'nb_underscore', 'nb_tilde', 'nb_percent', 'nb_slash', 'nb_star', 'nb_colon', 'nb_comma', 'nb_semicolumn', 'nb_dollar', 'nb_space', 'nb_www', 'nb_com', 'nb_dslash', 'http_in_path', 'https_token', 'ratio_digits_url', 'ratio_digits_host', 'punycode', 'port', 'tld_in_path', 'tld_in_subdomain', 'abnormal_subdomain', 'nb_subdomains', 'prefix_suffix', 'random_domain', 'shortening_service', 'path_extension', 'nb_redirection', 'nb_external_redirection', 'length_words_raw', 'char_repeat', 'shortest_words_raw', 'shortest_word_host', 'shortest_word_path', 'longest_words_raw', 'longest_word_host', 'longest_word_path', 'avg_words_raw', 'avg_word_host', 'avg_word_path', 'phish_hints', 'domain_in_brand', 'brand_in_subdomain', 'brand_in_path', 'suspecious_tld', 'statistical_report', 'nb_hyperlinks', 'ratio_intHyperlinks', 'ratio_extHyperlinks', 'ratio_nullHyperlinks', 'nb_extCSS', 'ratio_intRedirection', 'ratio_extRedirection', 'ratio_intErrors', 'ratio_extErrors', 'login_form', 'external_favicon', 'links_in_tags', 'submit_email', 'ratio_intMedia', 'ratio_extMedia', 'sfh', 'iframe', 'popup_window', 'safe_anchor', 'onmouseover', 'right_clic', 'empty_title', 'domain_in_title', 'domain_with_copyright', 'whois_registered_domain', 'domain_registration_length', 'domain_age', 'web_traffic', 'dns_record', 'google_index', 'page_rank', 'status', 'html_keyword_count', 'blacklist_flag']\n",
            "\n",
            "✅ Label Conversion Done\n",
            "status\n",
            "1    2513\n",
            "0    2487\n",
            "Name: count, dtype: int64\n",
            "\n",
            "✅ X Shape: (5000, 89)\n",
            "✅ y distribution:\n",
            " status\n",
            "1    2513\n",
            "0    2487\n",
            "Name: count, dtype: int64\n",
            "\n",
            "✅ Train-Test Split Done\n",
            "Train Samples: 4000\n",
            "Test Samples : 1000\n",
            "\n",
            "✅ After SMOTE Balancing:\n",
            "status\n",
            "0    2010\n",
            "1    2010\n",
            "Name: count, dtype: int64\n",
            "\n",
            "✅ Starting Hyperparameter Tuning (no early stopping in search)...\n",
            "Fitting 5 folds for each of 20 candidates, totalling 100 fits\n",
            "\n",
            "✅ Hyperparameter Tuning Complete!\n",
            "\n",
            "✅ Best Hyperparameters Found:\n",
            "{'subsample': 0.6, 'reg_lambda': 1, 'reg_alpha': 0.5, 'n_estimators': 200, 'max_depth': 5, 'learning_rate': 0.1, 'colsample_bytree': 0.8}\n",
            "\n",
            "✅ Refitting best model with early stopping...\n"
          ]
        },
        {
          "output_type": "error",
          "ename": "TypeError",
          "evalue": "XGBClassifier.fit() got an unexpected keyword argument 'early_stopping_rounds'",
          "traceback": [
            "\u001b[0;31m---------------------------------------------------------------------------\u001b[0m",
            "\u001b[0;31mTypeError\u001b[0m                                 Traceback (most recent call last)",
            "\u001b[0;32m/tmp/ipython-input-22-2946626669.py\u001b[0m in \u001b[0;36m<cell line: 0>\u001b[0;34m()\u001b[0m\n\u001b[1;32m    120\u001b[0m \u001b[0;34m\u001b[0m\u001b[0m\n\u001b[1;32m    121\u001b[0m \u001b[0;31m# ✅ Older-version-compatible early stopping:\u001b[0m\u001b[0;34m\u001b[0m\u001b[0;34m\u001b[0m\u001b[0m\n\u001b[0;32m--> 122\u001b[0;31m final_model.fit(\n\u001b[0m\u001b[1;32m    123\u001b[0m     \u001b[0mX_train_bal\u001b[0m\u001b[0;34m,\u001b[0m \u001b[0my_train_bal\u001b[0m\u001b[0;34m,\u001b[0m\u001b[0;34m\u001b[0m\u001b[0;34m\u001b[0m\u001b[0m\n\u001b[1;32m    124\u001b[0m     \u001b[0meval_set\u001b[0m\u001b[0;34m=\u001b[0m\u001b[0;34m[\u001b[0m\u001b[0;34m(\u001b[0m\u001b[0mX_test\u001b[0m\u001b[0;34m,\u001b[0m \u001b[0my_test\u001b[0m\u001b[0;34m)\u001b[0m\u001b[0;34m]\u001b[0m\u001b[0;34m,\u001b[0m\u001b[0;34m\u001b[0m\u001b[0;34m\u001b[0m\u001b[0m\n",
            "\u001b[0;32m/usr/local/lib/python3.11/dist-packages/xgboost/core.py\u001b[0m in \u001b[0;36minner_f\u001b[0;34m(*args, **kwargs)\u001b[0m\n\u001b[1;32m    727\u001b[0m             \u001b[0;32mfor\u001b[0m \u001b[0mk\u001b[0m\u001b[0;34m,\u001b[0m \u001b[0marg\u001b[0m \u001b[0;32min\u001b[0m \u001b[0mzip\u001b[0m\u001b[0;34m(\u001b[0m\u001b[0msig\u001b[0m\u001b[0;34m.\u001b[0m\u001b[0mparameters\u001b[0m\u001b[0;34m,\u001b[0m \u001b[0margs\u001b[0m\u001b[0;34m)\u001b[0m\u001b[0;34m:\u001b[0m\u001b[0;34m\u001b[0m\u001b[0;34m\u001b[0m\u001b[0m\n\u001b[1;32m    728\u001b[0m                 \u001b[0mkwargs\u001b[0m\u001b[0;34m[\u001b[0m\u001b[0mk\u001b[0m\u001b[0;34m]\u001b[0m \u001b[0;34m=\u001b[0m \u001b[0marg\u001b[0m\u001b[0;34m\u001b[0m\u001b[0;34m\u001b[0m\u001b[0m\n\u001b[0;32m--> 729\u001b[0;31m             \u001b[0;32mreturn\u001b[0m \u001b[0mfunc\u001b[0m\u001b[0;34m(\u001b[0m\u001b[0;34m**\u001b[0m\u001b[0mkwargs\u001b[0m\u001b[0;34m)\u001b[0m\u001b[0;34m\u001b[0m\u001b[0;34m\u001b[0m\u001b[0m\n\u001b[0m\u001b[1;32m    730\u001b[0m \u001b[0;34m\u001b[0m\u001b[0m\n\u001b[1;32m    731\u001b[0m         \u001b[0;32mreturn\u001b[0m \u001b[0minner_f\u001b[0m\u001b[0;34m\u001b[0m\u001b[0;34m\u001b[0m\u001b[0m\n",
            "\u001b[0;31mTypeError\u001b[0m: XGBClassifier.fit() got an unexpected keyword argument 'early_stopping_rounds'"
          ]
        }
      ]
    },
    {
      "cell_type": "code",
      "source": [
        "import xgboost\n",
        "print(xgboost.__version__)\n"
      ],
      "metadata": {
        "colab": {
          "base_uri": "https://localhost:8080/"
        },
        "id": "0pQsk0Jjnc9L",
        "outputId": "fcbe11c0-0d01-4999-9f81-6e2c3fa379d4"
      },
      "execution_count": 23,
      "outputs": [
        {
          "output_type": "stream",
          "name": "stdout",
          "text": [
            "3.0.2\n"
          ]
        }
      ]
    },
    {
      "cell_type": "code",
      "source": [
        "# ===========================================\n",
        "# ✅ 1️⃣ Import Libraries\n",
        "# ===========================================\n",
        "import pandas as pd\n",
        "import numpy as np\n",
        "import warnings\n",
        "warnings.filterwarnings('ignore')\n",
        "\n",
        "from sklearn.model_selection import train_test_split, StratifiedKFold, RandomizedSearchCV\n",
        "from sklearn.metrics import accuracy_score, classification_report, confusion_matrix\n",
        "from imblearn.over_sampling import SMOTE\n",
        "\n",
        "import xgboost as xgb\n",
        "\n",
        "# ===========================================\n",
        "# ✅ 2️⃣ Load Data\n",
        "# ===========================================\n",
        "data = pd.read_csv('/content/dataset_phishing_augmented.csv')  # Change path if needed\n",
        "print(\"\\n✅ Original Columns:\")\n",
        "print(data.columns.tolist())\n",
        "\n",
        "# ===========================================\n",
        "# ✅ 3️⃣ Label Conversion\n",
        "# ===========================================\n",
        "data['status'] = data['status'].replace({\n",
        "    'legitimate': 0,\n",
        "    'phishing': 1\n",
        "})\n",
        "print(\"\\n✅ Label Conversion Done\")\n",
        "print(data['status'].value_counts())\n",
        "\n",
        "# ===========================================\n",
        "# ✅ 4️⃣ Define Features and Target\n",
        "# ===========================================\n",
        "TARGET_COLUMN = 'status'\n",
        "X = data.drop([TARGET_COLUMN, 'url'], axis=1)\n",
        "y = data[TARGET_COLUMN]\n",
        "\n",
        "print(\"\\n✅ X Shape:\", X.shape)\n",
        "print(\"✅ y distribution:\\n\", y.value_counts())\n",
        "\n",
        "# ===========================================\n",
        "# ✅ 5️⃣ Train-Test Split\n",
        "# ===========================================\n",
        "X_train, X_test, y_train, y_test = train_test_split(\n",
        "    X, y, test_size=0.2, stratify=y, random_state=42\n",
        ")\n",
        "print(\"\\n✅ Train-Test Split Done\")\n",
        "print(f\"Train Samples: {X_train.shape[0]}\")\n",
        "print(f\"Test Samples : {X_test.shape[0]}\")\n",
        "\n",
        "# ===========================================\n",
        "# ✅ 6️⃣ Balance Training Data with SMOTE\n",
        "# ===========================================\n",
        "smote = SMOTE(random_state=42)\n",
        "X_train_bal, y_train_bal = smote.fit_resample(X_train, y_train)\n",
        "print(\"\\n✅ After SMOTE Balancing:\")\n",
        "print(y_train_bal.value_counts())\n",
        "\n",
        "# ===========================================\n",
        "# ✅ 7️⃣ Define XGBoost Model\n",
        "# ===========================================\n",
        "xgb_model = xgb.XGBClassifier(\n",
        "    objective='binary:logistic',\n",
        "    eval_metric='logloss',\n",
        "    use_label_encoder=False,\n",
        "    verbosity=0,\n",
        "    random_state=42\n",
        ")\n",
        "\n",
        "# ===========================================\n",
        "# ✅ 8️⃣ Define Parameter Grid\n",
        "# ===========================================\n",
        "param_grid = {\n",
        "    'learning_rate': [0.01, 0.05, 0.1],\n",
        "    'max_depth': [3, 4, 5],\n",
        "    'n_estimators': [100, 150, 200],\n",
        "    'subsample': [0.6, 0.7, 0.8],\n",
        "    'colsample_bytree': [0.6, 0.7, 0.8],\n",
        "    'reg_alpha': [0, 0.5, 1],\n",
        "    'reg_lambda': [1, 1.5, 2]\n",
        "}\n",
        "\n",
        "cv = StratifiedKFold(n_splits=5, shuffle=True, random_state=42)\n",
        "\n",
        "search = RandomizedSearchCV(\n",
        "    estimator=xgb_model,\n",
        "    param_distributions=param_grid,\n",
        "    scoring='accuracy',\n",
        "    n_iter=20,\n",
        "    cv=cv,\n",
        "    verbose=1,\n",
        "    n_jobs=-1,\n",
        "    random_state=42\n",
        ")\n",
        "\n",
        "# ===========================================\n",
        "# ✅ 9️⃣ Hyperparameter Tuning (NO early stopping)\n",
        "# ===========================================\n",
        "print(\"\\n✅ Starting Hyperparameter Tuning (no early stopping in search)...\")\n",
        "search.fit(X_train_bal, y_train_bal)\n",
        "print(\"\\n✅ Hyperparameter Tuning Complete!\")\n",
        "\n",
        "print(\"\\n✅ Best Hyperparameters Found:\")\n",
        "print(search.best_params_)\n",
        "\n",
        "# ===========================================\n",
        "# ✅ 🔟 Refit Best Model with Early Stopping (using callback)\n",
        "# ===========================================\n",
        "print(\"\\n✅ Refitting best model with early stopping using callback...\")\n",
        "best_params = search.best_params_\n",
        "\n",
        "final_model = xgb.XGBClassifier(\n",
        "    **best_params,\n",
        "    objective='binary:logistic',\n",
        "    eval_metric='logloss',\n",
        "    use_label_encoder=False,\n",
        "    verbosity=0,\n",
        "    random_state=42\n",
        ")\n",
        "\n",
        "# ✅ Define EarlyStopping callback (safe in 3.0.2)\n",
        "early_stopping_cb = xgb.callback.EarlyStopping(rounds=20)\n",
        "\n",
        "final_model.fit(\n",
        "    X_train_bal, y_train_bal,\n",
        "    eval_set=[(X_test, y_test)],\n",
        "    callbacks=[early_stopping_cb],\n",
        "    verbose=False\n",
        ")\n",
        "\n",
        "# ===========================================\n",
        "# ✅ 1️⃣1️⃣ Evaluate Model\n",
        "# ===========================================\n",
        "preds_train = final_model.predict(X_train)\n",
        "preds_test = final_model.predict(X_test)\n",
        "\n",
        "train_acc = accuracy_score(y_train, preds_train)\n",
        "test_acc = accuracy_score(y_test, preds_test)\n",
        "\n",
        "print(\"\\n✅ Final Accuracy Results:\")\n",
        "print(f\"Train Accuracy: {train_acc:.4f}\")\n",
        "print(f\"Test Accuracy : {test_acc:.4f}\")\n",
        "\n",
        "print(\"\\n✅ Classification Report:\")\n",
        "print(classification_report(y_test, preds_test))\n",
        "\n",
        "print(\"\\n✅ Confusion Matrix:\")\n",
        "print(confusion_matrix(y_test, preds_test))\n"
      ],
      "metadata": {
        "colab": {
          "base_uri": "https://localhost:8080/",
          "height": 1000
        },
        "id": "OQAK9BHuoaNT",
        "outputId": "5c9c004a-2d40-4764-9df2-6e5be7655c29"
      },
      "execution_count": 25,
      "outputs": [
        {
          "output_type": "stream",
          "name": "stdout",
          "text": [
            "\n",
            "✅ Original Columns:\n",
            "['url', 'length_url', 'length_hostname', 'ip', 'nb_dots', 'nb_hyphens', 'nb_at', 'nb_qm', 'nb_and', 'nb_or', 'nb_eq', 'nb_underscore', 'nb_tilde', 'nb_percent', 'nb_slash', 'nb_star', 'nb_colon', 'nb_comma', 'nb_semicolumn', 'nb_dollar', 'nb_space', 'nb_www', 'nb_com', 'nb_dslash', 'http_in_path', 'https_token', 'ratio_digits_url', 'ratio_digits_host', 'punycode', 'port', 'tld_in_path', 'tld_in_subdomain', 'abnormal_subdomain', 'nb_subdomains', 'prefix_suffix', 'random_domain', 'shortening_service', 'path_extension', 'nb_redirection', 'nb_external_redirection', 'length_words_raw', 'char_repeat', 'shortest_words_raw', 'shortest_word_host', 'shortest_word_path', 'longest_words_raw', 'longest_word_host', 'longest_word_path', 'avg_words_raw', 'avg_word_host', 'avg_word_path', 'phish_hints', 'domain_in_brand', 'brand_in_subdomain', 'brand_in_path', 'suspecious_tld', 'statistical_report', 'nb_hyperlinks', 'ratio_intHyperlinks', 'ratio_extHyperlinks', 'ratio_nullHyperlinks', 'nb_extCSS', 'ratio_intRedirection', 'ratio_extRedirection', 'ratio_intErrors', 'ratio_extErrors', 'login_form', 'external_favicon', 'links_in_tags', 'submit_email', 'ratio_intMedia', 'ratio_extMedia', 'sfh', 'iframe', 'popup_window', 'safe_anchor', 'onmouseover', 'right_clic', 'empty_title', 'domain_in_title', 'domain_with_copyright', 'whois_registered_domain', 'domain_registration_length', 'domain_age', 'web_traffic', 'dns_record', 'google_index', 'page_rank', 'status', 'html_keyword_count', 'blacklist_flag']\n",
            "\n",
            "✅ Label Conversion Done\n",
            "status\n",
            "1    2513\n",
            "0    2487\n",
            "Name: count, dtype: int64\n",
            "\n",
            "✅ X Shape: (5000, 89)\n",
            "✅ y distribution:\n",
            " status\n",
            "1    2513\n",
            "0    2487\n",
            "Name: count, dtype: int64\n",
            "\n",
            "✅ Train-Test Split Done\n",
            "Train Samples: 4000\n",
            "Test Samples : 1000\n",
            "\n",
            "✅ After SMOTE Balancing:\n",
            "status\n",
            "0    2010\n",
            "1    2010\n",
            "Name: count, dtype: int64\n",
            "\n",
            "✅ Starting Hyperparameter Tuning (no early stopping in search)...\n",
            "Fitting 5 folds for each of 20 candidates, totalling 100 fits\n",
            "\n",
            "✅ Hyperparameter Tuning Complete!\n",
            "\n",
            "✅ Best Hyperparameters Found:\n",
            "{'subsample': 0.6, 'reg_lambda': 1, 'reg_alpha': 0.5, 'n_estimators': 200, 'max_depth': 5, 'learning_rate': 0.1, 'colsample_bytree': 0.8}\n",
            "\n",
            "✅ Refitting best model with early stopping using callback...\n"
          ]
        },
        {
          "output_type": "error",
          "ename": "TypeError",
          "evalue": "XGBClassifier.fit() got an unexpected keyword argument 'callbacks'",
          "traceback": [
            "\u001b[0;31m---------------------------------------------------------------------------\u001b[0m",
            "\u001b[0;31mTypeError\u001b[0m                                 Traceback (most recent call last)",
            "\u001b[0;32m/tmp/ipython-input-25-4046259416.py\u001b[0m in \u001b[0;36m<cell line: 0>\u001b[0;34m()\u001b[0m\n\u001b[1;32m    123\u001b[0m \u001b[0mearly_stopping_cb\u001b[0m \u001b[0;34m=\u001b[0m \u001b[0mxgb\u001b[0m\u001b[0;34m.\u001b[0m\u001b[0mcallback\u001b[0m\u001b[0;34m.\u001b[0m\u001b[0mEarlyStopping\u001b[0m\u001b[0;34m(\u001b[0m\u001b[0mrounds\u001b[0m\u001b[0;34m=\u001b[0m\u001b[0;36m20\u001b[0m\u001b[0;34m)\u001b[0m\u001b[0;34m\u001b[0m\u001b[0;34m\u001b[0m\u001b[0m\n\u001b[1;32m    124\u001b[0m \u001b[0;34m\u001b[0m\u001b[0m\n\u001b[0;32m--> 125\u001b[0;31m final_model.fit(\n\u001b[0m\u001b[1;32m    126\u001b[0m     \u001b[0mX_train_bal\u001b[0m\u001b[0;34m,\u001b[0m \u001b[0my_train_bal\u001b[0m\u001b[0;34m,\u001b[0m\u001b[0;34m\u001b[0m\u001b[0;34m\u001b[0m\u001b[0m\n\u001b[1;32m    127\u001b[0m     \u001b[0meval_set\u001b[0m\u001b[0;34m=\u001b[0m\u001b[0;34m[\u001b[0m\u001b[0;34m(\u001b[0m\u001b[0mX_test\u001b[0m\u001b[0;34m,\u001b[0m \u001b[0my_test\u001b[0m\u001b[0;34m)\u001b[0m\u001b[0;34m]\u001b[0m\u001b[0;34m,\u001b[0m\u001b[0;34m\u001b[0m\u001b[0;34m\u001b[0m\u001b[0m\n",
            "\u001b[0;32m/usr/local/lib/python3.11/dist-packages/xgboost/core.py\u001b[0m in \u001b[0;36minner_f\u001b[0;34m(*args, **kwargs)\u001b[0m\n\u001b[1;32m    727\u001b[0m             \u001b[0;32mfor\u001b[0m \u001b[0mk\u001b[0m\u001b[0;34m,\u001b[0m \u001b[0marg\u001b[0m \u001b[0;32min\u001b[0m \u001b[0mzip\u001b[0m\u001b[0;34m(\u001b[0m\u001b[0msig\u001b[0m\u001b[0;34m.\u001b[0m\u001b[0mparameters\u001b[0m\u001b[0;34m,\u001b[0m \u001b[0margs\u001b[0m\u001b[0;34m)\u001b[0m\u001b[0;34m:\u001b[0m\u001b[0;34m\u001b[0m\u001b[0;34m\u001b[0m\u001b[0m\n\u001b[1;32m    728\u001b[0m                 \u001b[0mkwargs\u001b[0m\u001b[0;34m[\u001b[0m\u001b[0mk\u001b[0m\u001b[0;34m]\u001b[0m \u001b[0;34m=\u001b[0m \u001b[0marg\u001b[0m\u001b[0;34m\u001b[0m\u001b[0;34m\u001b[0m\u001b[0m\n\u001b[0;32m--> 729\u001b[0;31m             \u001b[0;32mreturn\u001b[0m \u001b[0mfunc\u001b[0m\u001b[0;34m(\u001b[0m\u001b[0;34m**\u001b[0m\u001b[0mkwargs\u001b[0m\u001b[0;34m)\u001b[0m\u001b[0;34m\u001b[0m\u001b[0;34m\u001b[0m\u001b[0m\n\u001b[0m\u001b[1;32m    730\u001b[0m \u001b[0;34m\u001b[0m\u001b[0m\n\u001b[1;32m    731\u001b[0m         \u001b[0;32mreturn\u001b[0m \u001b[0minner_f\u001b[0m\u001b[0;34m\u001b[0m\u001b[0;34m\u001b[0m\u001b[0m\n",
            "\u001b[0;31mTypeError\u001b[0m: XGBClassifier.fit() got an unexpected keyword argument 'callbacks'"
          ]
        }
      ]
    },
    {
      "cell_type": "code",
      "source": [
        "# ===========================================\n",
        "# ✅ 1️⃣ Import Libraries\n",
        "# ===========================================\n",
        "import pandas as pd\n",
        "import numpy as np\n",
        "import warnings\n",
        "warnings.filterwarnings('ignore')\n",
        "\n",
        "from sklearn.model_selection import train_test_split, StratifiedKFold, RandomizedSearchCV\n",
        "from sklearn.metrics import accuracy_score, classification_report, confusion_matrix\n",
        "from imblearn.over_sampling import SMOTE\n",
        "\n",
        "import xgboost as xgb\n",
        "\n",
        "# ===========================================\n",
        "# ✅ 2️⃣ Load Data\n",
        "# ===========================================\n",
        "data = pd.read_csv('/content/dataset_phishing_augmented.csv')  # Change path if needed\n",
        "print(\"\\n✅ Original Columns:\")\n",
        "print(data.columns.tolist())\n",
        "\n",
        "# ===========================================\n",
        "# ✅ 3️⃣ Label Conversion\n",
        "# ===========================================\n",
        "data['status'] = data['status'].replace({\n",
        "    'legitimate': 0,\n",
        "    'phishing': 1\n",
        "})\n",
        "print(\"\\n✅ Label Conversion Done\")\n",
        "print(data['status'].value_counts())\n",
        "\n",
        "# ===========================================\n",
        "# ✅ 4️⃣ Define Features and Target\n",
        "# ===========================================\n",
        "TARGET_COLUMN = 'status'\n",
        "X = data.drop([TARGET_COLUMN, 'url'], axis=1)\n",
        "y = data[TARGET_COLUMN]\n",
        "\n",
        "print(\"\\n✅ X Shape:\", X.shape)\n",
        "print(\"✅ y distribution:\\n\", y.value_counts())\n",
        "\n",
        "# ===========================================\n",
        "# ✅ 5️⃣ Train-Test Split\n",
        "# ===========================================\n",
        "X_train, X_test, y_train, y_test = train_test_split(\n",
        "    X, y, test_size=0.2, stratify=y, random_state=42\n",
        ")\n",
        "print(\"\\n✅ Train-Test Split Done\")\n",
        "print(f\"Train Samples: {X_train.shape[0]}\")\n",
        "print(f\"Test Samples : {X_test.shape[0]}\")\n",
        "\n",
        "# ===========================================\n",
        "# ✅ 6️⃣ Balance Training Data with SMOTE\n",
        "# ===========================================\n",
        "smote = SMOTE(random_state=42)\n",
        "X_train_bal, y_train_bal = smote.fit_resample(X_train, y_train)\n",
        "print(\"\\n✅ After SMOTE Balancing:\")\n",
        "print(y_train_bal.value_counts())\n",
        "\n",
        "# ===========================================\n",
        "# ✅ 7️⃣ Define XGBoost Model\n",
        "# ===========================================\n",
        "xgb_model = xgb.XGBClassifier(\n",
        "    objective='binary:logistic',\n",
        "    eval_metric='logloss',\n",
        "    use_label_encoder=False,\n",
        "    verbosity=0,\n",
        "    random_state=42\n",
        ")\n",
        "\n",
        "# ===========================================\n",
        "# ✅ 8️⃣ Define Parameter Grid\n",
        "# ===========================================\n",
        "param_grid = {\n",
        "    'learning_rate': [0.01, 0.05, 0.1],\n",
        "    'max_depth': [3, 4, 5],\n",
        "    'n_estimators': [100, 150, 200],\n",
        "    'subsample': [0.6, 0.7, 0.8],\n",
        "    'colsample_bytree': [0.6, 0.7, 0.8],\n",
        "    'reg_alpha': [0, 0.5, 1],\n",
        "    'reg_lambda': [1, 1.5, 2]\n",
        "}\n",
        "\n",
        "cv = StratifiedKFold(n_splits=5, shuffle=True, random_state=42)\n",
        "\n",
        "search = RandomizedSearchCV(\n",
        "    estimator=xgb_model,\n",
        "    param_distributions=param_grid,\n",
        "    scoring='accuracy',\n",
        "    n_iter=20,\n",
        "    cv=cv,\n",
        "    verbose=1,\n",
        "    n_jobs=-1,\n",
        "    random_state=42\n",
        ")\n",
        "\n",
        "# ===========================================\n",
        "# ✅ 9️⃣ Hyperparameter Tuning (NO early stopping)\n",
        "# ===========================================\n",
        "print(\"\\n✅ Starting Hyperparameter Tuning (no early stopping in search)...\")\n",
        "search.fit(X_train_bal, y_train_bal)\n",
        "print(\"\\n✅ Hyperparameter Tuning Complete!\")\n",
        "\n",
        "print(\"\\n✅ Best Hyperparameters Found:\")\n",
        "print(search.best_params_)\n",
        "\n",
        "# ===========================================\n",
        "# ✅ 🔟 Refit Best Model WITHOUT Early Stopping\n",
        "# ===========================================\n",
        "print(\"\\n✅ Refitting best model without early stopping...\")\n",
        "best_params = search.best_params_\n",
        "\n",
        "final_model = xgb.XGBClassifier(\n",
        "    **best_params,\n",
        "    objective='binary:logistic',\n",
        "    eval_metric='logloss',\n",
        "    use_label_encoder=False,\n",
        "    verbosity=0,\n",
        "    random_state=42\n",
        ")\n",
        "\n",
        "final_model.fit(X_train_bal, y_train_bal)\n",
        "\n",
        "# ===========================================\n",
        "# ✅ 1️⃣1️⃣ Evaluate Model\n",
        "# ===========================================\n",
        "preds_train = final_model.predict(X_train)\n",
        "preds_test = final_model.predict(X_test)\n",
        "\n",
        "train_acc = accuracy_score(y_train, preds_train)\n",
        "test_acc = accuracy_score(y_test, preds_test)\n",
        "\n",
        "print(\"\\n✅ Final Accuracy Results:\")\n",
        "print(f\"Train Accuracy: {train_acc:.4f}\")\n",
        "print(f\"Test Accuracy : {test_acc:.4f}\")\n",
        "\n",
        "print(\"\\n✅ Classification Report:\")\n",
        "print(classification_report(y_test, preds_test))\n",
        "\n",
        "print(\"\\n✅ Confusion Matrix:\")\n",
        "print(confusion_matrix(y_test, preds_test))\n"
      ],
      "metadata": {
        "colab": {
          "base_uri": "https://localhost:8080/"
        },
        "id": "EJUjNn_4pVkw",
        "outputId": "1b3aa49e-033d-4b07-c94a-18194974ffd7"
      },
      "execution_count": 26,
      "outputs": [
        {
          "output_type": "stream",
          "name": "stdout",
          "text": [
            "\n",
            "✅ Original Columns:\n",
            "['url', 'length_url', 'length_hostname', 'ip', 'nb_dots', 'nb_hyphens', 'nb_at', 'nb_qm', 'nb_and', 'nb_or', 'nb_eq', 'nb_underscore', 'nb_tilde', 'nb_percent', 'nb_slash', 'nb_star', 'nb_colon', 'nb_comma', 'nb_semicolumn', 'nb_dollar', 'nb_space', 'nb_www', 'nb_com', 'nb_dslash', 'http_in_path', 'https_token', 'ratio_digits_url', 'ratio_digits_host', 'punycode', 'port', 'tld_in_path', 'tld_in_subdomain', 'abnormal_subdomain', 'nb_subdomains', 'prefix_suffix', 'random_domain', 'shortening_service', 'path_extension', 'nb_redirection', 'nb_external_redirection', 'length_words_raw', 'char_repeat', 'shortest_words_raw', 'shortest_word_host', 'shortest_word_path', 'longest_words_raw', 'longest_word_host', 'longest_word_path', 'avg_words_raw', 'avg_word_host', 'avg_word_path', 'phish_hints', 'domain_in_brand', 'brand_in_subdomain', 'brand_in_path', 'suspecious_tld', 'statistical_report', 'nb_hyperlinks', 'ratio_intHyperlinks', 'ratio_extHyperlinks', 'ratio_nullHyperlinks', 'nb_extCSS', 'ratio_intRedirection', 'ratio_extRedirection', 'ratio_intErrors', 'ratio_extErrors', 'login_form', 'external_favicon', 'links_in_tags', 'submit_email', 'ratio_intMedia', 'ratio_extMedia', 'sfh', 'iframe', 'popup_window', 'safe_anchor', 'onmouseover', 'right_clic', 'empty_title', 'domain_in_title', 'domain_with_copyright', 'whois_registered_domain', 'domain_registration_length', 'domain_age', 'web_traffic', 'dns_record', 'google_index', 'page_rank', 'status', 'html_keyword_count', 'blacklist_flag']\n",
            "\n",
            "✅ Label Conversion Done\n",
            "status\n",
            "1    2513\n",
            "0    2487\n",
            "Name: count, dtype: int64\n",
            "\n",
            "✅ X Shape: (5000, 89)\n",
            "✅ y distribution:\n",
            " status\n",
            "1    2513\n",
            "0    2487\n",
            "Name: count, dtype: int64\n",
            "\n",
            "✅ Train-Test Split Done\n",
            "Train Samples: 4000\n",
            "Test Samples : 1000\n",
            "\n",
            "✅ After SMOTE Balancing:\n",
            "status\n",
            "0    2010\n",
            "1    2010\n",
            "Name: count, dtype: int64\n",
            "\n",
            "✅ Starting Hyperparameter Tuning (no early stopping in search)...\n",
            "Fitting 5 folds for each of 20 candidates, totalling 100 fits\n",
            "\n",
            "✅ Hyperparameter Tuning Complete!\n",
            "\n",
            "✅ Best Hyperparameters Found:\n",
            "{'subsample': 0.6, 'reg_lambda': 1, 'reg_alpha': 0.5, 'n_estimators': 200, 'max_depth': 5, 'learning_rate': 0.1, 'colsample_bytree': 0.8}\n",
            "\n",
            "✅ Refitting best model without early stopping...\n",
            "\n",
            "✅ Final Accuracy Results:\n",
            "Train Accuracy: 0.9988\n",
            "Test Accuracy : 0.9660\n",
            "\n",
            "✅ Classification Report:\n",
            "              precision    recall  f1-score   support\n",
            "\n",
            "           0       0.96      0.97      0.97       497\n",
            "           1       0.97      0.96      0.97       503\n",
            "\n",
            "    accuracy                           0.97      1000\n",
            "   macro avg       0.97      0.97      0.97      1000\n",
            "weighted avg       0.97      0.97      0.97      1000\n",
            "\n",
            "\n",
            "✅ Confusion Matrix:\n",
            "[[481  16]\n",
            " [ 18 485]]\n"
          ]
        }
      ]
    },
    {
      "cell_type": "code",
      "source": [
        "import joblib\n",
        "\n",
        "joblib.dump(final_model, 'xgb_phishing_model.pkl')\n"
      ],
      "metadata": {
        "colab": {
          "base_uri": "https://localhost:8080/"
        },
        "id": "YSDBvdg_tAGu",
        "outputId": "fc8fb5ca-f3b5-4044-83e0-c6b6be301b28"
      },
      "execution_count": 27,
      "outputs": [
        {
          "output_type": "execute_result",
          "data": {
            "text/plain": [
              "['xgb_phishing_model.pkl']"
            ]
          },
          "metadata": {},
          "execution_count": 27
        }
      ]
    }
  ]
}